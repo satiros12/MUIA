{
 "cells": [
  {
   "cell_type": "code",
   "execution_count": 197,
   "metadata": {
    "collapsed": false
   },
   "outputs": [],
   "source": [
    "import numpy as np\n",
    "import matplotlib.pyplot as plt\n",
    "%matplotlib inline\n",
    "import SA \n",
    "import time \n",
    "import matplotlib.pylab as pylab\n",
    "pylab.rcParams['figure.figsize'] = (16.0, 10.0)\n",
    "import itertools"
   ]
  },
  {
   "cell_type": "markdown",
   "metadata": {},
   "source": [
    "# Global Search : Simulated Annealing\n",
    "\n",
    "    Simle metaheuristic algorithm that finde global minimum/maximum.\n",
    "    A metaheuristic similar to gradient descent.\n",
    "    \n",
    "    1º Select randomly a point for a function to minimize.\n",
    "    2º Select the range (Envirnoment) in which will decide next point to move.\n",
    "    3º Select randomly a point inside the range of the initial point.\n",
    "        If it is a better solution, use this one as the initial solution.\n",
    "        Elsewere with a probability p = exp(-(f(a)-f(b))/Ti) decide if use this new solution or keep the previous one.\n",
    "               f(a) : The objective function applied to the new point\n",
    "               f(b) : The objective function applied to the previous point.\n",
    "               Ti : Temperature in the current moment.\n",
    "    4º Update the temperature and back to the 3th point. (t <- t/(1+B*t); B=(t_start - t_final)/(K_steps*t_start*t_finalize)  )"
   ]
  },
  {
   "cell_type": "code",
   "execution_count": 2,
   "metadata": {
    "collapsed": false
   },
   "outputs": [],
   "source": [
    "\n",
    "#Simulated Annealing Continuous\n",
    "def SAC(MAX_ITERATIONS, InitialPoint, EnvirnomentRange, InitialTemperature, objectiveFunction, timeUpdateFunction, restrictions=[None,None]\n",
    "        ,probabilityFunction=None, randomFunction=np.random.rand, debug=False, verbose=False, plotose=False ):\n",
    "    if probabilityFunction == None : probabilityFunction=lambda a,b,T : probabilityOfSelection(T,b,a)\n",
    "    CurrentTempreature = InitialTemperature\n",
    "    Current_solution = [InitialPoint , objectiveFunction(InitialPoint)]\n",
    "    Best_Solution = [InitialPoint , objectiveFunction(InitialPoint)]\n",
    "    if plotose :\n",
    "        Acumulative_values = [Best_Solution[-1]]\n",
    "    InitialTime = time.time()\n",
    "    for i in xrange(MAX_ITERATIONS):\n",
    "        StepTime = time.time()\n",
    "        while True:\n",
    "            RandomPoint = (randomFunction(len(Current_solution[0])) - 0.5) * 2\n",
    "            New_solution = Current_solution[0] + RandomPoint*EnvirnomentRange \n",
    "            #print New_solution\n",
    "            if restrictions[0] == None or restrictions[0] <= New_solution:\n",
    "                if restrictions[1] == None or restrictions[1] >= New_solution:\n",
    "                    break\n",
    "        New_value = objectiveFunction(New_solution)\n",
    "        if debug: print \"Sol \",i,\":\",New_solution,New_value, \" <-> \",Current_solution[0],Current_solution[1]\n",
    "        if New_value < Current_solution[1] : \n",
    "            Current_solution[0] = New_solution\n",
    "            Current_solution[1] = New_value\n",
    "        else:\n",
    "            ExpectedProbility = min([1,probabilityFunction(Current_solution[1],New_value,CurrentTempreature)])\n",
    "            ObtainedProbability = np.random.rand()\n",
    "            if debug : print \"Exp : \",ExpectedProbility,ObtainedProbability\n",
    "            if ObtainedProbability <= ExpectedProbility:\n",
    "                if Best_Solution[1] > Current_solution[1]:\n",
    "                    Best_Solution[0] = Current_solution[0]\n",
    "                    Best_Solution[1] = Current_solution[1]\n",
    "                Current_solution[0] = New_solution\n",
    "                Current_solution[1] = New_value\n",
    "        \n",
    "        #print \"Current Temp\",CurrentTempreature\n",
    "        CurrentTempreature = timeUpdateFunction(i,CurrentTempreature)\n",
    "        if plotose :\n",
    "            Acumulative_values.append(Best_Solution[-1])\n",
    "        if verbose == 1:  \n",
    "            print \"Step : \",i,\" Duration:\",(time.time() - StepTime) , \"Temperature:\",CurrentTempreature,\" Solution: \",Current_solution[1],\" Best solution: \",Best_Solution[1]\n",
    "    if plotose :\n",
    "            plt.plot(Acumulative_values)\n",
    "            plt.title(\"Best\" + str(Best_Solution[1]))\n",
    "            plt.show()\n",
    "    if verbose > 0:\n",
    "        TotalTime = (time.time()-InitialTime)\n",
    "        print \"Total time:\" ,TotalTime, \" Time per step\", TotalTime*1.0/MAX_ITERATIONS, \"Best solution : \",Best_Solution[1]\n",
    "    return Best_Solution\n",
    "\n",
    "def SAC_GTU(MAX_ITERATIONS, InitialPoint, EnvirnomentRange,  InitialTemperature, FinalTemperature,objectiveFunction, restrictions=[None,None], debug=False, verbose=False, plotose=False):\n",
    "    return SAC(MAX_ITERATIONS, InitialPoint, EnvirnomentRange, InitialTemperature, objectiveFunction=objectiveFunction,restrictions=restrictions, timeUpdateFunction=lambda i,T : gradualTimmeUpdate(InitialTemperature,FinalTemperature,MAX_ITERATIONS,T), debug=debug, verbose=verbose, plotose=plotose)"
   ]
  },
  {
   "cell_type": "code",
   "execution_count": null,
   "metadata": {
    "collapsed": true
   },
   "outputs": [],
   "source": [
    "def fo(x): return np.cos(x)/x\n",
    "    np.random.seed(1)\n",
    "    R = SAC_GTU(1000,np.asanyarray([10.0]),5.0,100.0,1.0,fo, restrictions=[0,30], plotose=False,verbose=False)\n",
    "    print R\n",
    "    print \"Test result : \",(int(R[1][0]*10000) == -3364) and (int(R[0][0]*10000) == 28166)"
   ]
  },
  {
   "cell_type": "code",
   "execution_count": 43,
   "metadata": {
    "collapsed": false
   },
   "outputs": [],
   "source": [
    "#Default maximization\n",
    "class SimulatedAnnealing:\n",
    "    def __init__(self):\n",
    "        self.T_initial, self.T_final, self.K_steps, self.T_current, self.step, self.alpha, slef.F_current, self.F_new = [None]*8\n",
    "        self.Number_steps, self.error_percentage, self.best_F, self.Last_k_Fs, self.accepted_percentage= [None]*5\n",
    "        self.k, self.acepted_in_last_k_steps, self.cutoff, self.number_cutoff_acepted_solutions = [None]*4\n",
    "        self.TU = None\n",
    "        self.P = 0\n",
    "        self.END = []\n",
    "    \n",
    "    #Partial Functions\n",
    "    #TU=0\n",
    "    def linearTimmeUpdate(self):\n",
    "        Betta = (self.T_initial - self.T_final*1.0) / (self.K_steps*1.0* self.T_initial * self.T_final)\n",
    "        return self.T_current*1.0/(1.0 + Betta*self.T_current)\n",
    "    #TU=1\n",
    "    def geometriclTimmeUpdate(self):\n",
    "        #Betta = #(T_initial - T_final*1.0) / (K_steps*1.0* T_initial * T_final)\n",
    "        return (self.alpha**self.step) * self.T_initial  # T_current*1.0/(1.0 + Betta*T_current)\n",
    "    #P=0\n",
    "    def probabilityOfSelection(self):\n",
    "        return np.random.rand() < min([1.0, np.exp(- (self.F_current - self.F_new*1.0)*1.0/self.T_current)]) if self.F_new < self.F_current else True \n",
    "\n",
    "    #END=0\n",
    "    def endCondiction_error_modification(self):\n",
    "         return (min(self.Last_k_Fs) < self.best_F - (self.best_F*self.error_percentage))   #error_percentage*1.0  * Number_steps     \n",
    "\n",
    "    #END=1\n",
    "    def endCondiction_error_modification(self):\n",
    "         return self.error_percentage*self.Number_steps > self.acepted_in_k_steps \n",
    "\n",
    "    #END=2\n",
    "    def endCondiction_cutoffs(self):\n",
    "         return self.cutoff*self.Number_steps < self.number_aceoted_solutions \n",
    "        \n",
    "    #END=3\n",
    "    def endCondiction_MaxSteps(self):\n",
    "         return self.Number_steps < self.step \n",
    "        \n",
    "    #Aggregation_functions\n",
    "    def linearTimmeUpdate(self, T_initial, T_final, K_steps):\n",
    "        self.T_initial, self.T_final, self.K_steps = T_initial, T_final, K_steps\n",
    "        self.TU = 0\n",
    "        \n",
    "    def geometriclTimmeUpdate(self, T_initial, alpha=0.95):\n",
    "        self.T_initial, self.alpha = T_initial, alpha\n",
    "        self.TU = 1\n",
    "        \n",
    "    def probabilityOfSelection(self):\n",
    "         pass # Default\n",
    "            \n",
    "    def endCondiction_error_modification(self,Number_steps, error_percentage,k):\n",
    "        self.Number_steps, self.error_percentage, self.k =  Number_steps, error_percentage, k\n",
    "        self.END.append(0)\n",
    "        \n",
    "    def endCondiction_error_modification(self,Number_steps, accepted_percentage, k):\n",
    "        self.Number_steps, self.accepted_percentage, self.k = Number_steps, accepted_percentage, k\n",
    "        self.END.append(1)\n",
    "        \n",
    "    def endCondiction_cutoffs(self,Number_steps, cutoff):\n",
    "        self.Number_steps, self.cutoff = Number_steps, cutoff\n",
    "        self.END.append(2)\n",
    "        \n",
    "    def endCondiction_MaxSteps(self,Number_steps):\n",
    "        self.Number_steps = Number_steps\n",
    "        self.END.append(3)\n",
    "        \n",
    "    #Algorithm"
   ]
  },
  {
   "cell_type": "code",
   "execution_count": 12,
   "metadata": {
    "collapsed": false,
    "scrolled": true
   },
   "outputs": [],
   "source": [
    "#SAC(100,np.asanyarray([10.0]),1.0,15.0,fo,lambda i,T : gradualTimmeUpdate(15.0,1.0,100,T))\n",
    "def test1():\n",
    "    def fo(x): return np.cos(x)/x\n",
    "    np.random.seed(1)\n",
    "    R = SAC_GTU(1000,np.asanyarray([10.0]),5.0,100.0,1.0,fo, restrictions=[0,30], plotose=False,verbose=False)\n",
    "    print R\n",
    "    print \"Test result : \",(int(R[1][0]*10000) == -3364) and (int(R[0][0]*10000) == 28166)\n",
    "    \n",
    "    "
   ]
  },
  {
   "cell_type": "code",
   "execution_count": 19,
   "metadata": {
    "collapsed": false,
    "scrolled": true
   },
   "outputs": [
    {
     "name": "stdout",
     "output_type": "stream",
     "text": [
      "Step :  0  Duration: 0.0 Temperature: 50.2512562814  Solution:  [-0.05675213]  Best solution:  [-0.08390715]\n",
      "Step :  1  Duration: 0.0 Temperature: 33.5570469799  Solution:  [ 0.16079354]  Best solution:  [-0.08390715]\n",
      "Step :  2  Duration: 0.0 Temperature: 25.1889168766  Solution:  [-0.00303147]  Best solution:  [-0.08390715]\n",
      "Step :  3  Duration: 0.0 Temperature: 20.1612903226  Solution:  [-0.09953604]  Best solution:  [-0.08390715]\n",
      "Step :  4  Duration: 0.0 Temperature: 16.8067226891  Solution:  [ 0.05232591]  Best solution:  [-0.09953604]\n",
      "Step :  5  Duration: 0.0 Temperature: 14.409221902  Solution:  [-0.04902061]  Best solution:  [-0.09953604]\n",
      "Step :  6  Duration: 0.0 Temperature: 12.6103404792  Solution:  [ 0.03669638]  Best solution:  [-0.09953604]\n",
      "Step :  7  Duration: 0.0 Temperature: 11.2107623318  Solution:  [-0.03451065]  Best solution:  [-0.09953604]\n",
      "Step :  8  Duration: 0.0 Temperature: 10.0908173562  Solution:  [-0.03451065]  Best solution:  [-0.09953604]\n",
      "Step :  9  Duration: 0.0 Temperature: 9.17431192661  Solution:  [-0.03451065]  Best solution:  [-0.09953604]\n",
      "Step :  10  Duration: 0.0 Temperature: 8.41042893188  Solution:  [-0.04935514]  Best solution:  [-0.09953604]\n",
      "Step :  11  Duration: 0.0 Temperature: 7.76397515528  Solution:  [ 0.03190967]  Best solution:  [-0.09953604]\n",
      "Step :  12  Duration: 0.0 Temperature: 7.20980533526  Solution:  [-0.02660821]  Best solution:  [-0.09953604]\n",
      "Step :  13  Duration: 0.0 Temperature: 6.72947510094  Solution:  [ 0.00071235]  Best solution:  [-0.09953604]\n",
      "Step :  14  Duration: 0.0 Temperature: 6.30914826498  Solution:  [-0.03119438]  Best solution:  [-0.09953604]\n",
      "Step :  15  Duration: 0.0 Temperature: 5.93824228029  Solution:  [-0.03022761]  Best solution:  [-0.09953604]\n",
      "Step :  16  Duration: 0.000999927520752 Temperature: 5.60852495794  Solution:  [ 0.02795489]  Best solution:  [-0.09953604]\n",
      "Step :  17  Duration: 0.0 Temperature: 5.31349628055  Solution:  [-0.00921875]  Best solution:  [-0.09953604]\n",
      "Step :  18  Duration: 0.0 Temperature: 5.04795557799  Solution:  [-0.04445036]  Best solution:  [-0.09953604]\n",
      "Step :  19  Duration: 0.000999927520752 Temperature: 4.80769230769  Solution:  [ 0.05274317]  Best solution:  [-0.09953604]\n",
      "Step :  20  Duration: 0.0 Temperature: 4.58926112896  Solution:  [-0.01538835]  Best solution:  [-0.09953604]\n",
      "Step :  21  Duration: 0.0 Temperature: 4.38981562774  Solution:  [ 0.05518839]  Best solution:  [-0.09953604]\n",
      "Step :  22  Duration: 0.000999927520752 Temperature: 4.20698359276  Solution:  [ 0.06044456]  Best solution:  [-0.09953604]\n",
      "Step :  23  Duration: 0.0 Temperature: 4.03877221325  Solution:  [ 0.06044456]  Best solution:  [-0.09953604]\n",
      "Step :  24  Duration: 0.0 Temperature: 3.88349514563  Solution:  [-0.06252757]  Best solution:  [-0.09953604]\n",
      "Step :  25  Duration: 0.0 Temperature: 3.7397157816  Solution:  [-0.06252757]  Best solution:  [-0.09953604]\n",
      "Step :  26  Duration: 0.0 Temperature: 3.60620266859  Solution:  [ 0.03909686]  Best solution:  [-0.09953604]\n",
      "Step :  27  Duration: 0.0 Temperature: 3.48189415042  Solution:  [-0.06374315]  Best solution:  [-0.09953604]\n",
      "Step :  28  Duration: 0.000999927520752 Temperature: 3.36587007742  Solution:  [ 0.03803999]  Best solution:  [-0.09953604]\n",
      "Step :  29  Duration: 0.0 Temperature: 3.25732899023  Solution:  [-0.00644946]  Best solution:  [-0.09953604]\n",
      "Step :  30  Duration: 0.0 Temperature: 3.15556958031  Solution:  [ 0.04508571]  Best solution:  [-0.09953604]\n",
      "Step :  31  Duration: 0.0 Temperature: 3.0599755202  Solution:  [-0.02496667]  Best solution:  [-0.09953604]\n",
      "Step :  32  Duration: 0.0 Temperature: 2.97000297  Solution:  [ 0.0109897]  Best solution:  [-0.09953604]\n",
      "Step :  33  Duration: 0.0 Temperature: 2.88517022504  Solution:  [-0.00049467]  Best solution:  [-0.09953604]\n",
      "Step :  34  Duration: 0.0 Temperature: 2.80504908836  Solution:  [ 0.07948242]  Best solution:  [-0.09953604]\n",
      "Step :  35  Duration: 0.0 Temperature: 2.72925764192  Solution:  [ 0.05306186]  Best solution:  [-0.09953604]\n",
      "Step :  36  Duration: 0.0 Temperature: 2.65745415892  Solution:  [-0.01017358]  Best solution:  [-0.09953604]\n",
      "Step :  37  Duration: 0.0 Temperature: 2.58933195236  Solution:  [ 0.04342984]  Best solution:  [-0.09953604]\n",
      "Step :  38  Duration: 0.0 Temperature: 2.52461499621  Solution:  [-0.0559435]  Best solution:  [-0.09953604]\n",
      "Step :  39  Duration: 0.0 Temperature: 2.46305418719  Solution:  [-0.0559435]  Best solution:  [-0.09953604]\n",
      "Step :  40  Duration: 0.0 Temperature: 2.40442414042  Solution:  [ 0.0699624]  Best solution:  [-0.09953604]\n",
      "Step :  41  Duration: 0.0 Temperature: 2.34852043213  Solution:  [ 0.037101]  Best solution:  [-0.09953604]\n",
      "Step :  42  Duration: 0.0 Temperature: 2.29515721827  Solution:  [ 0.00044307]  Best solution:  [-0.09953604]\n",
      "Step :  43  Duration: 0.0 Temperature: 2.24416517056  Solution:  [-0.00692947]  Best solution:  [-0.09953604]\n",
      "Step :  44  Duration: 0.0 Temperature: 2.19538968167  Solution:  [-0.04673153]  Best solution:  [-0.09953604]\n",
      "Step :  45  Duration: 0.0 Temperature: 2.14868929953  Solution:  [ 0.04738314]  Best solution:  [-0.09953604]\n",
      "Step :  46  Duration: 0.0 Temperature: 2.10393435725  Solution:  [-0.05113346]  Best solution:  [-0.09953604]\n",
      "Step :  47  Duration: 0.0 Temperature: 2.06100577082  Solution:  [-0.05113346]  Best solution:  [-0.09953604]\n",
      "Step :  48  Duration: 0.0 Temperature: 2.01979398101  Solution:  [-0.05113346]  Best solution:  [-0.09953604]\n",
      "Step :  49  Duration: 0.0 Temperature: 1.9801980198  Solution:  [-0.05122999]  Best solution:  [-0.09953604]\n",
      "Step :  50  Duration: 0.0 Temperature: 1.9421246844  Solution:  [-0.05122999]  Best solution:  [-0.09953604]\n",
      "Step :  51  Duration: 0.0 Temperature: 1.90548780488  Solution:  [ 0.0274813]  Best solution:  [-0.09953604]\n",
      "Step :  52  Duration: 0.0 Temperature: 1.87020759304  Solution:  [ 0.01279767]  Best solution:  [-0.09953604]\n",
      "Step :  53  Duration: 0.0 Temperature: 1.83621006243  Solution:  [-0.04551916]  Best solution:  [-0.09953604]\n",
      "Step :  54  Duration: 0.0 Temperature: 1.80342651037  Solution:  [-0.04510945]  Best solution:  [-0.09953604]\n",
      "Step :  55  Duration: 0.0 Temperature: 1.77179305457  Solution:  [ 0.04162411]  Best solution:  [-0.09953604]\n",
      "Step :  56  Duration: 0.0 Temperature: 1.74125021766  Solution:  [-0.01880385]  Best solution:  [-0.09953604]\n",
      "Step :  57  Duration: 0.0 Temperature: 1.71174255392  Solution:  [-0.04370098]  Best solution:  [-0.09953604]\n",
      "Step :  58  Duration: 0.0 Temperature: 1.68321831342  Solution:  [ 0.03936965]  Best solution:  [-0.09953604]\n",
      "Step :  59  Duration: 0.0 Temperature: 1.65562913907  Solution:  [-0.03722285]  Best solution:  [-0.09953604]\n",
      "Step :  60  Duration: 0.0 Temperature: 1.62892979313  Solution:  [ 0.01168956]  Best solution:  [-0.09953604]\n",
      "Step :  61  Duration: 0.0 Temperature: 1.60307790959  Solution:  [ 0.01168956]  Best solution:  [-0.09953604]\n",
      "Step :  62  Duration: 0.0 Temperature: 1.57803376992  Solution:  [-0.02132574]  Best solution:  [-0.09953604]\n",
      "Step :  63  Duration: 0.0 Temperature: 1.55376009944  Solution:  [-0.04257294]  Best solution:  [-0.09953604]\n",
      "Step :  64  Duration: 0.0 Temperature: 1.53022188217  Solution:  [ 0.03708449]  Best solution:  [-0.09953604]\n",
      "Step :  65  Duration: 0.0 Temperature: 1.50738619234  Solution:  [-0.00130766]  Best solution:  [-0.09953604]\n",
      "Step :  66  Duration: 0.0 Temperature: 1.4852220407  Solution:  [-0.00608267]  Best solution:  [-0.09953604]\n",
      "Step :  67  Duration: 0.0 Temperature: 1.46370023419  Solution:  [-0.06184353]  Best solution:  [-0.09953604]\n",
      "Step :  68  Duration: 0.0 Temperature: 1.44279324773  Solution:  [ 0.07379532]  Best solution:  [-0.09953604]\n",
      "Step :  69  Duration: 0.0 Temperature: 1.42247510669  Solution:  [-0.05665683]  Best solution:  [-0.09953604]\n",
      "Step :  70  Duration: 0.0 Temperature: 1.40272127928  Solution:  [ 0.03481298]  Best solution:  [-0.09953604]\n",
      "Step :  71  Duration: 0.0 Temperature: 1.38350857775  Solution:  [-0.01225823]  Best solution:  [-0.09953604]\n",
      "Step :  72  Duration: 0.0 Temperature: 1.36481506756  Solution:  [ 0.01455859]  Best solution:  [-0.09953604]\n",
      "Step :  73  Duration: 0.0 Temperature: 1.34661998384  Solution:  [ 0.01455859]  Best solution:  [-0.09953604]\n",
      "Step :  74  Duration: 0.0 Temperature: 1.32890365449  Solution:  [-0.04586023]  Best solution:  [-0.09953604]\n",
      "Step :  75  Duration: 0.000999927520752 Temperature: 1.31164742917  Solution:  [ 0.03034147]  Best solution:  [-0.09953604]\n",
      "Step :  76  Duration: 0.0 Temperature: 1.29483361388  Solution:  [-0.10427492]  Best solution:  [-0.09953604]\n",
      "Step :  77  Duration: 0.0 Temperature: 1.27844541038  Solution:  [ 0.13681417]  Best solution:  [-0.10427492]\n",
      "Step :  78  Duration: 0.0 Temperature: 1.26246686024  Solution:  [-0.03488701]  Best solution:  [-0.10427492]\n",
      "Step :  79  Duration: 0.0 Temperature: 1.24688279302  Solution:  [-0.28574618]  Best solution:  [-0.10427492]\n",
      "Step :  80  Duration: 0.0 Temperature: 1.23167877817  Solution:  [ 1.07246788]  Best solution:  [-0.28574618]\n",
      "Step :  81  Duration: 0.0 Temperature: 1.21684108055  Solution:  [ 2.06839991]  Best solution:  [-0.28574618]\n",
      "Step :  82  Duration: 0.0 Temperature: 1.20235661897  Solution:  [-0.31601271]  Best solution:  [-0.28574618]\n",
      "Step :  83  Duration: 0.0 Temperature: 1.18821292776  Solution:  [-0.30824795]  Best solution:  [-0.31601271]\n",
      "Step :  84  Duration: 0.0 Temperature: 1.17439812096  Solution:  [ 2.19468975]  Best solution:  [-0.31601271]\n",
      "Step :  85  Duration: 0.0 Temperature: 1.16090085907  Solution:  [ 1.39339055]  Best solution:  [-0.31601271]\n",
      "Step :  86  Duration: 0.000999927520752 Temperature: 1.14771031792  Solution:  [ 3.35607746]  Best solution:  [-0.31601271]\n",
      "Step :  87  Duration: 0.0 Temperature: 1.13481615978  Solution:  [-0.29558258]  Best solution:  [-0.31601271]\n",
      "Step :  88  Duration: 0.0 Temperature: 1.12220850634  Solution:  [ 0.15160748]  Best solution:  [-0.31601271]\n",
      "Step :  89  Duration: 0.0 Temperature: 1.10987791343  Solution:  [ 0.15195786]  Best solution:  [-0.31601271]\n",
      "Step :  90  Duration: 0.0 Temperature: 1.09781534746  Solution:  [-0.33259216]  Best solution:  [-0.31601271]\n",
      "Step :  91  Duration: 0.0 Temperature: 1.08601216334  Solution:  [-0.33259216]  Best solution:  [-0.31601271]\n",
      "Step :  92  Duration: 0.0 Temperature: 1.07446008381  Solution:  [ 1.83305639]  Best solution:  [-0.33259216]\n",
      "Step :  93  Duration: 0.0 Temperature: 1.0631511801  Solution:  [-0.24931155]  Best solution:  [-0.33259216]\n",
      "Step :  94  Duration: 0.0 Temperature: 1.05207785376  Solution:  [ 3.46777456]  Best solution:  [-0.33259216]\n",
      "Step :  95  Duration: 0.000999927520752 Temperature: 1.04123281966  Solution:  [ 0.20109185]  Best solution:  [-0.33259216]\n",
      "Step :  96  Duration: 0.0 Temperature: 1.03060908997  Solution:  [-0.26780543]  Best solution:  [-0.33259216]\n",
      "Step :  97  Duration: 0.0 Temperature: 1.02019995919  Solution:  [ 0.09968949]  Best solution:  [-0.33259216]\n",
      "Step :  98  Duration: 0.0 Temperature: 1.00999899  Solution:  [-0.06026372]  Best solution:  [-0.33259216]\n",
      "Step :  99  Duration: 0.0 Temperature: 1.0  Solution:  [-0.08596065]  Best solution:  [-0.33259216]\n",
      "Total time: 0.0349998474121  Time per step 0.000349998474121 Best solution :  [-0.33259216]\n"
     ]
    },
    {
     "data": {
      "text/plain": [
       "[array([ 2.64847986]), array([-0.33259216])]"
      ]
     },
     "execution_count": 19,
     "metadata": {},
     "output_type": "execute_result"
    }
   ],
   "source": [
    "#R = test1()\n",
    "SAC_GTU(100,np.asanyarray([10.0]),5.0,100.0,1.0,fo, restrictions=[0,30], plotose=False,verbose=True)"
   ]
  },
  {
   "cell_type": "code",
   "execution_count": 3,
   "metadata": {
    "collapsed": false,
    "scrolled": true
   },
   "outputs": [
    {
     "data": {
      "image/png": "[encoded data removed]",
      "text/plain": [
       "<matplotlib.figure.Figure at 0x6ec2400>"
      ]
     },
     "metadata": {},
     "output_type": "display_data"
    },
    {
     "name": "stdout",
     "output_type": "stream",
     "text": [
      "Total time: 0.244999885559  Time per step 2.44999885559e-05 Best solution :  [-0.33650826]\n"
     ]
    },
    {
     "data": {
      "text/plain": [
       "[array([ 2.79742399]), array([-0.33650826])]"
      ]
     },
     "execution_count": 3,
     "metadata": {},
     "output_type": "execute_result"
    }
   ],
   "source": [
    "def fo(x): return np.cos(x)/x\n",
    "SA.SAC_GTU(10000,np.asanyarray([10.0]),5.0,100.0,1.0,fo, restrictions=[0,30], plotose=True,verbose=2)"
   ]
  },
  {
   "cell_type": "code",
   "execution_count": 265,
   "metadata": {
    "collapsed": false
   },
   "outputs": [],
   "source": [
    "def linearTimmeUpdate(T_initial, T_final, K_steps, T_current):\n",
    "    Betta = (T_initial - T_final*1.0) / (K_steps*1.0* T_initial * T_final)\n",
    "    return T_current*1.0/(1.0 + Betta*T_current)\n",
    "\n",
    "def geometriclTimmeUpdate(T_initial, step, alpha=0.95):\n",
    "    #Betta = #(T_initial - T_final*1.0) / (K_steps*1.0* T_initial * T_final)\n",
    "    return (alpha**step) * T_initial  # T_current*1.0/(1.0 + Betta*T_current)\n",
    "\n",
    "def probabilityOfSelection(T_current, F_current, F_new):\n",
    "    A= min([1.0, np.exp(- (F_new*1.0-F_current)*1.0/T_current)]) > np.random.rand() if F_new > F_current else True\n",
    "    #print A,F_new > F_current,np.exp(- (F_new*1.0-F_current)*1.0/T_current)\n",
    "    return A\n",
    "\n",
    "def endCondiction_error_modification(Number_steps, error_percentage, best_F, Last_k_Fs):\n",
    "    #print (min(Last_k_Fs) - best_F),error_percentage\n",
    "    return np.abs(min(Last_k_Fs) - best_F)/np.abs(best_F) > error_percentage   #error_percentage*1.0  * Number_steps     \n",
    "\n",
    "def endCondiction_accepted_percentage(Number_steps, accpeted_percentage, acepted_in_last_k_steps):\n",
    "    return accpeted_percentage*Number_steps < acepted_in_last_k_steps \n",
    "\n",
    "def endCondiction_cutoffs(Number_steps, cutoff, number_aceoted_solutions):\n",
    "     return cutoff*Number_steps < number_aceoted_solutions \n",
    "    \n",
    "def endCondiction_MaxSteps(Number_steps, step):\n",
    "         return Number_steps < step \n",
    "    \n",
    "def fo(x): return np.cos(x*1.0)*1.0/x"
   ]
  },
  {
   "cell_type": "code",
   "execution_count": 260,
   "metadata": {
    "collapsed": false
   },
   "outputs": [
    {
     "name": "stdout",
     "output_type": "stream",
     "text": [
      "-0.105360515658\n",
      "In  100  tests, with envirnoment :  1\n",
      "Mean difference of non improvement perturbations :  0.110010777236\n",
      "Intial temperature for a  0.999 % of aceptance :  109.955762676\n",
      "Intial percentage optained for other Sample : 0.997708306481\n",
      "Final temperature for a  0.5 % of aceptance :  0.158712002763\n",
      "Final percentage optained for other Sample: 0.204025853906\n"
     ]
    },
    {
     "data": {
      "text/plain": [
       "(109.95576267555852, 0.15871200276319122, 0.11001077723632824)"
      ]
     },
     "execution_count": 260,
     "metadata": {},
     "output_type": "execute_result"
    }
   ],
   "source": [
    "def SelectTemperaturesRange(Initial_percentage_aceptance, Final_percentage_aceptance, Test_times, Objective_function, Restrictions, Envirnoment, verbose=False):\n",
    "    Initial_points = np.random.rand(Test_times) * Restrictions[1] + Restrictions[0]\n",
    "    Perturbations = np.random.rand(Test_times) * Envirnoment*2 - Envirnoment\n",
    "    New_points = Initial_points + Perturbations\n",
    "    Correct_perturbed_1 = np.where(New_points >= Restrictions[0])[0]\n",
    "    Correct_perturbed_2 = np.where(New_points <= Restrictions[1])[0]\n",
    "    Correct_perturbed = np.intersect1d(Correct_perturbed_1,Correct_perturbed_2)\n",
    "    #filter(lambda x : x >= Restrictions[0] and x <= Restrictions[1] , \n",
    "    #print New_points[Correct_perturbed], len(Correct_perturbed)\n",
    "    Non_improvements = np.where(Objective_function(Initial_points[Correct_perturbed]) < Objective_function(New_points[Correct_perturbed]))[0] \n",
    "    #print Objective_function(Initial_points[Non_improvements]) < Objective_function(New_points[Non_improvements])\n",
    "    #print len(Non_improvements)\n",
    "    MEAN_DIF = np.mean( np.abs(Objective_function(Initial_points[Correct_perturbed][Non_improvements]) - Objective_function(New_points[Correct_perturbed][Non_improvements])) )\n",
    "    Initial_temperature = -MEAN_DIF/ np.log(Initial_percentage_aceptance)\n",
    "    Final_temperature = -MEAN_DIF/ np.log(Final_percentage_aceptance)\n",
    "    if verbose:\n",
    "        RES2 = SelectTemperaturesRange(Initial_percentage_aceptance, Final_percentage_aceptance, Test_times, Objective_function, Restrictions, Envirnoment, verbose=False)\n",
    "        print \"In \",Test_times,\" tests, with envirnoment : \",Envirnoment\n",
    "        print \"Mean difference of non improvement perturbations : \", MEAN_DIF\n",
    "        print \"Intial temperature for a \", Initial_percentage_aceptance, \"% of aceptance : \",Initial_temperature\n",
    "        print \"Intial percentage optained for other Sample :\", np.exp(-RES2[2] / Initial_temperature)\n",
    "        print \"Final temperature for a \", Final_percentage_aceptance, \"% of aceptance : \",Final_temperature\n",
    "        print \"Final percentage optained for other Sample:\", np.exp(-RES2[2] / Final_temperature)\n",
    "    return Initial_temperature,Final_temperature, MEAN_DIF\n",
    "\n",
    "#print np.log(0.9)\n",
    "#SelectTemperaturesRange(0.999,0.5,100,fo,[10**-4,30],1, verbose=True)"
   ]
  },
  {
   "cell_type": "code",
   "execution_count": 405,
   "metadata": {
    "collapsed": false,
    "scrolled": true
   },
   "outputs": [],
   "source": [
    "#Simulated Annealing Continuous\n",
    "def SIM_AN(\n",
    "MAX_ITERATIONS=10000,\n",
    "InitialPoint = np.random.rand()*30.0,\n",
    "EnvirnomentRange = 1,\n",
    "objectiveFunction = fo,\n",
    "restrictions=[10**-100,30],\n",
    "Intial_percentage =0.999,\n",
    "Final_percentage =0.3,\n",
    "InitialTemperature=100,\n",
    "FinalTemperature = 1000,\n",
    "USE_TEMPERATURE=False,\n",
    "alpha = 0.99,\n",
    "TEMPERATURE_EVOLUTION=0,\n",
    "debug=False,\n",
    "verbose=2,\n",
    "plotose=False,\n",
    "#if probabilityFunction == None : probabilityFunction=lambda a,b,T : probabilityOfSelection(T,b,a)\n",
    "accpeted_percentage=1.0,\n",
    "error_percentage=10000.0,\n",
    "k1= 500,\n",
    "k2=500,\n",
    "cutoff =1.0,\n",
    "\n",
    "UP = 0.1,\n",
    "LL = 0.01,\n",
    "\n",
    "REC = 0.01,\n",
    "DES = 0.001,\n",
    "\n",
    "Ec = 0.01,\n",
    "\n",
    "\n",
    "Metodo_de_aceptacion = 0\n",
    "#0 : Probabilidad\n",
    "#1 : Umbral\n",
    "#2 : Gran Diluvio\n",
    "#3 : Recuerdo del recuerdo del viaje\n",
    "#4 : Microcacanonic annealing method\n",
    "):\n",
    "    if not USE_TEMPERATURE : \n",
    "        InitialTemperature,FinalTemperature, Mean_RE = SelectTemperaturesRange(Intial_percentage,Final_percentage,100,fo,[10**-4,30],1, verbose=verbose)\n",
    "    CurrentTempreature = InitialTemperature\n",
    "    Current_solution = [InitialPoint , objectiveFunction(InitialPoint)]\n",
    "    Best_Solution = [InitialPoint , objectiveFunction(InitialPoint)]\n",
    "    if debug:\n",
    "        OutOfRangeRandoms = 0\n",
    "    BEST_Acumulative_values = [Best_Solution[-1]]\n",
    "    Acumulative_values_prefered = [Current_solution[-1]]\n",
    "    Acumulative_values_tested = [Current_solution[-1]]\n",
    "    BEST_Acumulative_sol = [Best_Solution[0]]\n",
    "    Acumulative_sol_prefered = [Current_solution[0]]\n",
    "    Acumulative_sol_tested = [Current_solution[0]]\n",
    "    InitialTime = time.time()\n",
    "    Step = 0\n",
    "    k_buffer_acceptance=[]\n",
    "    k_buffer_F=[]\n",
    "    Total_aceptance_count = 0\n",
    "    Ecs,LLs,RECs,Ts = [],[],[],[]\n",
    "    while True:\n",
    "        Step += 1\n",
    "        StepTime = time.time()\n",
    "        Ecs += [Ec]\n",
    "        LLs += [LL]\n",
    "        RECs += [REC]\n",
    "        Ts += [CurrentTempreature]\n",
    "        while True: #Solo cogemos datos restringidos\n",
    "            RandomPoint = np.random.rand()*2.0 - 1.0\n",
    "            New_solution = Current_solution[0] + RandomPoint*EnvirnomentRange \n",
    "            #print New_solution\n",
    "            if restrictions[0] == None or restrictions[0] <= New_solution:\n",
    "                if restrictions[1] == None or restrictions[1] >= New_solution:\n",
    "                    break\n",
    "            if debug : OutOfRangeRandoms+=1\n",
    "        New_value = objectiveFunction(New_solution)\n",
    "        if debug: print \"Sol \",Step,\":\",New_solution,New_value, \" <-> \",Current_solution[0],Current_solution[1]\n",
    "\n",
    "        #print New_value, New_solution, Current_solution\n",
    "        Update_current_solution = False\n",
    "        RES_TP = [(Metodo_de_aceptacion == 0 and probabilityOfSelection(CurrentTempreature, Current_solution[1], New_value))\n",
    "                                    ,(Metodo_de_aceptacion == 1 and np.abs(New_value - Current_solution[1]) > CurrentTempreature)\n",
    "                                    ,(Metodo_de_aceptacion == 2 and (New_value) > LL)\n",
    "                                    ,(Metodo_de_aceptacion == 3 and (New_value) > (REC-DES))\n",
    "                                    ,(Metodo_de_aceptacion == 4 and np.abs(New_value - Current_solution[1]) < Ec)]\n",
    "        #print RES_TP\n",
    "        Update_current_solution = sum(RES_TP)\n",
    "        #if Metodo_de_aceptacion == 0 : Update_current_solution = probabilityOfSelection(CurrentTempreature, Current_solution[1], New_value)\n",
    "        #if Metodo_de_aceptacion == 1 : Update_current_solution = np.abs(New_value - Current_solution[1]) > CurrentTempreature\n",
    "        #if Metodo_de_aceptacion == 2 : Update_current_solution = (New_value) > LL\n",
    "        #if Metodo_de_aceptacion == 3 : Update_current_solution = (New_value) > (REC-DES)\n",
    "        #if Metodo_de_aceptacion == 4 : Update_current_solution = np.abs(New_value - Current_solution[1]) < Ec\n",
    "        #if Update_current_solution == 0 : print  \" +++ SI +++\"\n",
    "        #print Metodo_de_aceptacion,Update_current_solution\n",
    "        #print probabilityOfSelection(CurrentTempreature, Current_solution[1], New_value),np.abs(New_value - Current_solution[1]) > CurrentTempreature,(New_value) > LL,(New_value) > (REC-DES),np.abs(New_value - Current_solution[1]) < Ec\n",
    "        if New_value > REC:\n",
    "            REC = New_value\n",
    "\n",
    "        if Update_current_solution:\n",
    "            Ec = Ec - np.abs(New_value - Current_solution[1])\n",
    "            Current_solution[0] = New_solution\n",
    "            Current_solution[1] = New_value\n",
    "            Total_aceptance_count += 1\n",
    "            LL += UP\n",
    "\n",
    "\n",
    "        if Best_Solution[1] > Current_solution[1]:\n",
    "            Best_Solution[0] = Current_solution[0]\n",
    "            Best_Solution[1] = Current_solution[1]\n",
    "\n",
    "\n",
    "        #termination conditions\n",
    "        if Step > k1 : \n",
    "                k_buffer_acceptance[:-1] = k_buffer_acceptance[1:]\n",
    "                k_buffer_acceptance[-1] = 1 if New_value == Current_solution[1] else 0\n",
    "        else:\n",
    "            k_buffer_acceptance.append(1 if New_value == Current_solution[1] else 0)\n",
    "\n",
    "\n",
    "        if Step > k2 :\n",
    "                k_buffer_F[:-1] = k_buffer_F[1:]\n",
    "                k_buffer_F[-1] = New_value   \n",
    "        else: \n",
    "            k_buffer_F.append(New_value)\n",
    "\n",
    "        BEST_Acumulative_values += [Best_Solution[1]]\n",
    "        Acumulative_values_prefered += [Current_solution[1]]\n",
    "        Acumulative_values_tested += [New_value]\n",
    "        BEST_Acumulative_sol += [Best_Solution[0]]\n",
    "        Acumulative_sol_prefered += [Current_solution[0]]\n",
    "        Acumulative_sol_tested += [New_solution]\n",
    "\n",
    "        #print \"Current Temp\",CurrentTempreature\n",
    "        if TEMPERATURE_EVOLUTION == 0:\n",
    "            CurrentTempreature = linearTimmeUpdate(InitialTemperature, FinalTemperature, MAX_ITERATIONS, CurrentTempreature)\n",
    "        if TEMPERATURE_EVOLUTION == 1:\n",
    "            CurrentTempreature = geometriclTimmeUpdate(InitialTemperature, Step,alpha)\n",
    "        \n",
    "        if plotose :\n",
    "            Acumulative_values.append(Best_Solution[-1])\n",
    "        if verbose == 1:  \n",
    "            print \"Step : \",Step,\" Duration:\",(time.time() - StepTime) , \"Temperature:\",CurrentTempreature,\" Solution F: \",Current_solution[1],\" Best solution F: \",Best_Solution[1]\n",
    "        if endCondiction_MaxSteps(MAX_ITERATIONS, Step):\n",
    "            if verbose : print \"End by Max Steps\"\n",
    "            break\n",
    "        if Step > k1 :\n",
    "            if endCondiction_accepted_percentage(MAX_ITERATIONS, accpeted_percentage, sum(k_buffer_acceptance)):\n",
    "                if verbose : print \"End by Accepted Percentage\",MAX_ITERATIONS\n",
    "                break\n",
    "        if Step > k2 :\n",
    "            if endCondiction_error_modification(MAX_ITERATIONS, error_percentage, Best_Solution[1], k_buffer_F):\n",
    "                if verbose : print \"End by Error Modification\"\n",
    "                break\n",
    "        if endCondiction_cutoffs(MAX_ITERATIONS, cutoff, Total_aceptance_count):\n",
    "            if verbose : print \"End by CUTOFFS\"\n",
    "            break\n",
    "\n",
    "    if plotose :\n",
    "            plt.plot(Acumulative_values)\n",
    "            plt.title(\"Best\" + str(Best_Solution[1]))\n",
    "            plt.show()\n",
    "    if verbose > 0:\n",
    "        TotalTime = (time.time()-InitialTime)\n",
    "        print \"Total time:\" ,TotalTime, \" Time per step\", TotalTime*1.0/MAX_ITERATIONS,\"Steps:\",Step, \"Best solution : \",Best_Solution[1]\n",
    "    OTHER_OUTPUT= []\n",
    "    OTHER_OUTPUT += [[BEST_Acumulative_sol,BEST_Acumulative_values]]\n",
    "    OTHER_OUTPUT += [[Acumulative_sol_prefered, Acumulative_values_prefered]]\n",
    "    OTHER_OUTPUT += [[Acumulative_sol_tested, Acumulative_values_tested]]\n",
    "    OTHER_OUTPUT += [Ecs,LLs,RECs,Ts]\n",
    "    return Best_Solution,Step, OTHER_OUTPUT\n"
   ]
  },
  {
   "cell_type": "code",
   "execution_count": 406,
   "metadata": {
    "collapsed": true
   },
   "outputs": [],
   "source": [
    "def plot_results(ALGO_RESULT,SHOW_IMG=True, SAVE_FILE=False, File_name=\"GS\"):\n",
    "    plt.plot(RES[2][0][1],\"r\")\n",
    "    plt.plot(RES[2][1][1],\"b\")\n",
    "    plt.plot(RES[2][2][1],\"g\")\n",
    "    plt.xlim(0,len(RES[2][0][1]))\n",
    "    plt.title(\"Evolution of : F(x) = cos(x)/x\")\n",
    "    plt.xlabel(\"Number of steps\")\n",
    "    plt.ylabel(\"f\")\n",
    "    if SAVE_FILE :plt.savefig(File_name+'_EVF.png')\n",
    "    if SHOW_IMG: plt.show()\n",
    "    plt.close()\n",
    "\n",
    "    plt.plot(RES[2][0][0],\"r\")\n",
    "    plt.plot(RES[2][1][0],\"b\")\n",
    "    plt.plot(RES[2][2][0],\"g\")\n",
    "    plt.xlim(0,len(RES[2][0][1]))\n",
    "    plt.title(\"Evolution of : x\")\n",
    "    plt.xlabel(\"Number of steps\")\n",
    "    plt.ylabel(\"x\")\n",
    "    if SAVE_FILE :plt.savefig(File_name+'_EVX.png')\n",
    "    if SHOW_IMG: plt.show()\n",
    "    plt.close()\n",
    "\n",
    "    plt.plot(RES[2][-1],\"r\")\n",
    "    plt.xlim(0,len(RES[2][0][1]))\n",
    "    #plt.hlines(2.89255277615,0,Step)\n",
    "    plt.title(\"Evolution of : Temperature\")\n",
    "    plt.xlabel(\"Number of steps\")\n",
    "    plt.ylabel(\"Temperature\")\n",
    "    if SAVE_FILE :plt.savefig(File_name+'_EVT.png')\n",
    "    if SHOW_IMG: plt.show()\n",
    "    plt.close()\n",
    "\n",
    "    plt.plot(RES[2][-2],\"r\")\n",
    "    plt.xlim(0,len(RES[2][0][1]))\n",
    "    plt.title(\"Evolution of : Records\")\n",
    "    plt.xlabel(\"Number of steps\")\n",
    "    plt.ylabel(\"Records\")\n",
    "    if SAVE_FILE :plt.savefig(File_name+'_EVREC.png')\n",
    "    if SHOW_IMG: plt.show()\n",
    "    plt.close()\n",
    "\n",
    "    plt.plot(RES[2][-3],\"r\")\n",
    "    plt.xlim(0,len(RES[2][0][1]))\n",
    "    plt.title(\"Evolution of : Rain\")\n",
    "    plt.xlabel(\"Number of steps\")\n",
    "    plt.ylabel(\"Rain\")\n",
    "    if SAVE_FILE :plt.savefig(File_name+'_EVLL.png')\n",
    "    if SHOW_IMG: plt.show()\n",
    "    plt.close()\n",
    "\n",
    "    plt.plot(RES[2][-4],\"r\")\n",
    "    plt.xlim(0,len(RES[2][0][1]))\n",
    "    plt.title(\"Evolution of : Ec\")\n",
    "    plt.xlabel(\"Number of steps\")\n",
    "    plt.ylabel(\"Ec\")\n",
    "    if SAVE_FILE :plt.savefig(File_name+'_EVEc.png')\n",
    "    if SHOW_IMG: plt.show()\n",
    "    plt.close()"
   ]
  },
  {
   "cell_type": "code",
   "execution_count": 439,
   "metadata": {
    "collapsed": false,
    "scrolled": true
   },
   "outputs": [
    {
     "name": "stdout",
     "output_type": "stream",
     "text": [
      "[2.7979416203378813, -0.33650838368231883]\n"
     ]
    },
    {
     "data": {
      "image/png": "[encoded data removed]",
      "text/plain": [
       "<matplotlib.figure.Figure at 0xdbdb0b8>"
      ]
     },
     "metadata": {},
     "output_type": "display_data"
    },
    {
     "data": {
      "image/png": "[encoded data removed]",
      "text/plain": [
       "<matplotlib.figure.Figure at 0x3e62780>"
      ]
     },
     "metadata": {},
     "output_type": "display_data"
    },
    {
     "data": {
      "image/png": "[encoded data removed]",
      "text/plain": [
       "<matplotlib.figure.Figure at 0x8649c88>"
      ]
     },
     "metadata": {},
     "output_type": "display_data"
    },
    {
     "data": {
      "image/png": "[encoded data removed]",
      "text/plain": [
       "<matplotlib.figure.Figure at 0xb70e860>"
      ]
     },
     "metadata": {},
     "output_type": "display_data"
    },
    {
     "data": {
      "image/png": "[encoded data removed]",
      "text/plain": [
       "<matplotlib.figure.Figure at 0xb86a9b0>"
      ]
     },
     "metadata": {},
     "output_type": "display_data"
    },
    {
     "data": {
      "image/png": "[encoded data removed]",
      "text/plain": [
       "<matplotlib.figure.Figure at 0xa68add8>"
      ]
     },
     "metadata": {},
     "output_type": "display_data"
    },
    {
     "data": {
      "image/png": "[encoded data removed]",
      "text/plain": [
       "<matplotlib.figure.Figure at 0x8ba9cc0>"
      ]
     },
     "metadata": {},
     "output_type": "display_data"
    },
    {
     "data": {
      "image/png": "[encoded data removed]",
      "text/plain": [
       "<matplotlib.figure.Figure at 0xa57e7b8>"
      ]
     },
     "metadata": {},
     "output_type": "display_data"
    }
   ],
   "source": [
    "pylab.rcParams['figure.figsize'] = (4.0, 2.0)\n",
    "RES = SIM_AN(verbose=False, MAX_ITERATIONS=10000,  Intial_percentage=0.99, Final_percentage=0.3, EnvirnomentRange=2)\n",
    "print RES[0]\n",
    "plot_results(RES,SAVE_FILE=True, SHOW_IMG=True)\n",
    "RESS = []\n",
    "STEPSS = []\n",
    "for s in xrange(100):\n",
    "    RE = SIM_AN(verbose=False, MAX_ITERATIONS=10000,  Intial_percentage=0.99, Final_percentage=0.3, EnvirnomentRange=2\n",
    "                  , k1= 1, k2=500, accpeted_percentage=1.0, error_percentage=0.01)\n",
    "    RESS += RE[0][:1]\n",
    "    STEPSS += [RE[1]]\n",
    "#print RESS\n",
    "plt.hist(RESS)\n",
    "plt.title(\"Other finalizations\")\n",
    "plt.xlabel(\"Selected x\")\n",
    "plt.ylabel(\"Frecuence\")\n",
    "plt.savefig(\"Other_x.png\")\n",
    "plt.show()\n",
    "\n",
    "\n",
    "plt.hist(STEPSS)\n",
    "plt.title(\"Steps to finalize\")\n",
    "plt.xlabel(\"Steps\")\n",
    "plt.ylabel(\"Frecuence\")\n",
    "plt.savefig(\"other_steps.png\")\n",
    "plt.show()"
   ]
  },
  {
   "cell_type": "code",
   "execution_count": 230,
   "metadata": {
    "collapsed": false,
    "scrolled": true
   },
   "outputs": [
    {
     "name": "stdout",
     "output_type": "stream",
     "text": [
      "In  100  tests, with envirnoment :  1\n",
      "Mean difference of non improvement perturbations :  0.105389772266\n",
      "Intial temperature for a  0.999 % of aceptance :  105.337068593\n",
      "Intial percentage optained for other Sample : 0.999529449221\n",
      "Final temperature for a  0.3 % of aceptance :  0.0875350106641\n",
      "Final percentage optained for other Sample: 0.567576183384\n",
      "End by Accepted Percentage\n",
      "Total time: 0.00800013542175  Time per step 8.00013542175e-06 Steps: 501 Best solution :  -0.0637915530396\n",
      "[-0.063246796341450195, -0.063246796341450195, -0.063246796341450195, -0.063246796341450195, -0.063246796341450195, -0.063246796341450195, -0.063246796341450195, -0.063246796341450195, -0.063246796341450195, -0.063246796341450195, -0.063246796341450195, -0.063246796341450195, -0.063246796341450195, -0.063246796341450195, -0.063246796341450195, -0.063246796341450195, -0.063246796341450195, -0.063246796341450195, -0.063246796341450195, -0.063246796341450195, -0.063470753216013684, -0.063470753216013684, -0.063470753216013684, -0.063470753216013684, -0.063470753216013684, -0.063470753216013684, -0.063470753216013684, -0.063470753216013684, -0.063470753216013684, -0.063470753216013684, -0.063762542762681493, -0.063762542762681493, -0.063762542762681493, -0.063791368298570447, -0.063791368298570447, -0.063791368298570447, -0.063791368298570447, -0.063791368298570447, -0.063791368298570447, -0.063791368298570447, -0.063791368298570447, -0.063791368298570447, -0.063791368298570447, -0.063791368298570447, -0.063791553039575469, -0.063791553039575469, -0.063791553039575469, -0.063791553039575469, -0.063791553039575469, -0.063791553039575469, -0.063791553039575469, -0.063791553039575469, -0.063791553039575469, -0.063791553039575469, -0.063791553039575469, -0.063791553039575469, -0.063791553039575469, -0.063791553039575469, -0.063791553039575469, -0.063791553039575469, -0.063791553039575469, -0.063791553039575469, -0.063791553039575469, -0.063791553039575469, -0.063791553039575469, -0.063791553039575469, -0.063791553039575469, -0.063791553039575469, -0.063791553039575469, -0.063791553039575469, -0.063791553039575469, -0.063791553039575469, -0.063791553039575469, -0.063791553039575469, -0.063791553039575469, -0.063791553039575469, -0.063791553039575469, -0.063791553039575469, -0.063791553039575469, -0.063791553039575469, -0.063791553039575469, -0.063791553039575469, -0.063791553039575469, -0.063791553039575469, -0.063791553039575469, -0.063791553039575469, -0.063791553039575469, -0.063791553039575469, -0.063791553039575469, -0.063791553039575469, -0.063791553039575469, -0.063791553039575469, -0.063791553039575469, -0.063791553039575469, -0.063791553039575469, -0.063791553039575469, -0.063791553039575469, -0.063791553039575469, -0.063791553039575469, -0.063791553039575469, -0.063791553039575469, -0.063791553039575469, -0.063791553039575469, -0.063791553039575469, -0.063791553039575469, -0.063791553039575469, -0.063791553039575469, -0.063791553039575469, -0.063791553039575469, -0.063791553039575469, -0.063791553039575469, -0.063791553039575469, -0.063791553039575469, -0.063791553039575469, -0.063791553039575469, -0.063791553039575469, -0.063791553039575469, -0.063791553039575469, -0.063791553039575469, -0.063791553039575469, -0.063791553039575469, -0.063791553039575469, -0.063791553039575469, -0.063791553039575469, -0.063791553039575469, -0.063791553039575469, -0.063791553039575469, -0.063791553039575469, -0.063791553039575469, -0.063791553039575469, -0.063791553039575469, -0.063791553039575469, -0.063791553039575469, -0.063791553039575469, -0.063791553039575469, -0.063791553039575469, -0.063791553039575469, -0.063791553039575469, -0.063791553039575469, -0.063791553039575469, -0.063791553039575469, -0.063791553039575469, -0.063791553039575469, -0.063791553039575469, -0.063791553039575469, -0.063791553039575469, -0.063791553039575469, -0.063791553039575469, -0.063791553039575469, -0.063791553039575469, -0.063791553039575469, -0.063791553039575469, -0.063791553039575469, -0.063791553039575469, -0.063791553039575469, -0.063791553039575469, -0.063791553039575469, -0.063791553039575469, -0.063791553039575469, -0.063791553039575469, -0.063791553039575469, -0.063791553039575469, -0.063791553039575469, -0.063791553039575469, -0.063791553039575469, -0.063791553039575469, -0.063791553039575469, -0.063791553039575469, -0.063791553039575469, -0.063791553039575469, -0.063791553039575469, -0.063791553039575469, -0.063791553039575469, -0.063791553039575469, -0.063791553039575469, -0.063791553039575469, -0.063791553039575469, -0.063791553039575469, -0.063791553039575469, -0.063791553039575469, -0.063791553039575469, -0.063791553039575469, -0.063791553039575469, -0.063791553039575469, -0.063791553039575469, -0.063791553039575469, -0.063791553039575469, -0.063791553039575469, -0.063791553039575469, -0.063791553039575469, -0.063791553039575469, -0.063791553039575469, -0.063791553039575469, -0.063791553039575469, -0.063791553039575469, -0.063791553039575469, -0.063791553039575469, -0.063791553039575469, -0.063791553039575469, -0.063791553039575469, -0.063791553039575469, -0.063791553039575469, -0.063791553039575469, -0.063791553039575469, -0.063791553039575469, -0.063791553039575469, -0.063791553039575469, -0.063791553039575469, -0.063791553039575469, -0.063791553039575469, -0.063791553039575469, -0.063791553039575469, -0.063791553039575469, -0.063791553039575469, -0.063791553039575469, -0.063791553039575469, -0.063791553039575469, -0.063791553039575469, -0.063791553039575469, -0.063791553039575469, -0.063791553039575469, -0.063791553039575469, -0.063791553039575469, -0.063791553039575469, -0.063791553039575469, -0.063791553039575469, -0.063791553039575469, -0.063791553039575469, -0.063791553039575469, -0.063791553039575469, -0.063791553039575469, -0.063791553039575469, -0.063791553039575469, -0.063791553039575469, -0.063791553039575469, -0.063791553039575469, -0.063791553039575469, -0.063791553039575469, -0.063791553039575469, -0.063791553039575469, -0.063791553039575469, -0.063791553039575469, -0.063791553039575469, -0.063791553039575469, -0.063791553039575469, -0.063791553039575469, -0.063791553039575469, -0.063791553039575469, -0.063791553039575469, -0.063791553039575469, -0.063791553039575469, -0.063791553039575469, -0.063791553039575469, -0.063791553039575469, -0.063791553039575469, -0.063791553039575469, -0.063791553039575469, -0.063791553039575469, -0.063791553039575469, -0.063791553039575469, -0.063791553039575469, -0.063791553039575469, -0.063791553039575469, -0.063791553039575469, -0.063791553039575469, -0.063791553039575469, -0.063791553039575469, -0.063791553039575469, -0.063791553039575469, -0.063791553039575469, -0.063791553039575469, -0.063791553039575469, -0.063791553039575469, -0.063791553039575469, -0.063791553039575469, -0.063791553039575469, -0.063791553039575469, -0.063791553039575469, -0.063791553039575469, -0.063791553039575469, -0.063791553039575469, -0.063791553039575469, -0.063791553039575469, -0.063791553039575469, -0.063791553039575469, -0.063791553039575469, -0.063791553039575469, -0.063791553039575469, -0.063791553039575469, -0.063791553039575469, -0.063791553039575469, -0.063791553039575469, -0.063791553039575469, -0.063791553039575469, -0.063791553039575469, -0.063791553039575469, -0.063791553039575469, -0.063791553039575469, -0.063791553039575469, -0.063791553039575469, -0.063791553039575469, -0.063791553039575469, -0.063791553039575469, -0.063791553039575469, -0.063791553039575469, -0.063791553039575469, -0.063791553039575469, -0.063791553039575469, -0.063791553039575469, -0.063791553039575469, -0.063791553039575469, -0.063791553039575469, -0.063791553039575469, -0.063791553039575469, -0.063791553039575469, -0.063791553039575469, -0.063791553039575469, -0.063791553039575469, -0.063791553039575469, -0.063791553039575469, -0.063791553039575469, -0.063791553039575469, -0.063791553039575469, -0.063791553039575469, -0.063791553039575469, -0.063791553039575469, -0.063791553039575469, -0.063791553039575469, -0.063791553039575469, -0.063791553039575469, -0.063791553039575469, -0.063791553039575469, -0.063791553039575469, -0.063791553039575469, -0.063791553039575469, -0.063791553039575469, -0.063791553039575469, -0.063791553039575469, -0.063791553039575469, -0.063791553039575469, -0.063791553039575469, -0.063791553039575469, -0.063791553039575469, -0.063791553039575469, -0.063791553039575469, -0.063791553039575469, -0.063791553039575469, -0.063791553039575469, -0.063791553039575469, -0.063791553039575469, -0.063791553039575469, -0.063791553039575469, -0.063791553039575469, -0.063791553039575469, -0.063791553039575469, -0.063791553039575469, -0.063791553039575469, -0.063791553039575469, -0.063791553039575469, -0.063791553039575469, -0.063791553039575469, -0.063791553039575469, -0.063791553039575469, -0.063791553039575469, -0.063791553039575469, -0.063791553039575469, -0.063791553039575469, -0.063791553039575469, -0.063791553039575469, -0.063791553039575469, -0.063791553039575469, -0.063791553039575469, -0.063791553039575469, -0.063791553039575469, -0.063791553039575469, -0.063791553039575469, -0.063791553039575469, -0.063791553039575469, -0.063791553039575469, -0.063791553039575469, -0.063791553039575469, -0.063791553039575469, -0.063791553039575469, -0.063791553039575469, -0.063791553039575469, -0.063791553039575469, -0.063791553039575469, -0.063791553039575469, -0.063791553039575469, -0.063791553039575469, -0.063791553039575469, -0.063791553039575469, -0.063791553039575469, -0.063791553039575469, -0.063791553039575469, -0.063791553039575469, -0.063791553039575469, -0.063791553039575469, -0.063791553039575469, -0.063791553039575469, -0.063791553039575469, -0.063791553039575469, -0.063791553039575469, -0.063791553039575469, -0.063791553039575469, -0.063791553039575469, -0.063791553039575469, -0.063791553039575469, -0.063791553039575469, -0.063791553039575469, -0.063791553039575469, -0.063791553039575469, -0.063791553039575469, -0.063791553039575469, -0.063791553039575469, -0.063791553039575469, -0.063791553039575469, -0.063791553039575469, -0.063791553039575469, -0.063791553039575469, -0.063791553039575469, -0.063791553039575469, -0.063791553039575469, -0.063791553039575469, -0.063791553039575469, -0.063791553039575469, -0.063791553039575469, -0.063791553039575469, -0.063791553039575469, -0.063791553039575469, -0.063791553039575469, -0.063791553039575469, -0.063791553039575469, -0.063791553039575469, -0.063791553039575469, -0.063791553039575469, -0.063791553039575469, -0.063791553039575469, -0.063791553039575469, -0.063791553039575469, -0.063791553039575469, -0.063791553039575469, -0.063791553039575469, -0.063791553039575469, -0.063791553039575469, -0.063791553039575469, -0.063791553039575469, -0.063791553039575469, -0.063791553039575469, -0.063791553039575469, -0.063791553039575469, -0.063791553039575469, -0.063791553039575469, -0.063791553039575469, -0.063791553039575469, -0.063791553039575469, -0.063791553039575469, -0.063791553039575469, -0.063791553039575469, -0.063791553039575469, -0.063791553039575469, -0.063791553039575469, -0.063791553039575469, -0.063791553039575469, -0.063791553039575469, -0.063791553039575469, -0.063791553039575469, -0.063791553039575469, -0.063791553039575469, -0.063791553039575469, -0.063791553039575469, -0.063791553039575469, -0.063791553039575469, -0.063791553039575469, -0.063791553039575469, -0.063791553039575469, -0.063791553039575469, -0.063791553039575469, -0.063791553039575469, -0.063791553039575469, -0.063791553039575469, -0.063791553039575469, -0.063791553039575469, -0.063791553039575469, -0.063791553039575469, -0.063791553039575469, -0.063791553039575469, -0.063791553039575469, -0.063791553039575469, -0.063791553039575469, -0.063791553039575469, -0.063791553039575469, -0.063791553039575469, -0.063791553039575469, -0.063791553039575469, -0.063791553039575469, -0.063791553039575469, -0.063791553039575469, -0.063791553039575469, -0.063791553039575469, -0.063791553039575469, -0.063791553039575469]\n"
     ]
    }
   ],
   "source": [
    "RES = SIM_AN(MAX_ITERATIONS=1000)\n",
    "print RES[2][0][1]"
   ]
  },
  {
   "cell_type": "code",
   "execution_count": 211,
   "metadata": {
    "collapsed": false
   },
   "outputs": [
    {
     "name": "stdout",
     "output_type": "stream",
     "text": [
      "End by Error Modification\n",
      "End by Error Modification\n",
      "End by Error Modification\n",
      "End by Error Modification\n",
      "End by CUTOFFS\n",
      "End by Error Modification\n",
      "End by Error Modification\n",
      "End by Error Modification\n",
      "End by CUTOFFS\n",
      "End by CUTOFFS\n"
     ]
    }
   ],
   "source": [
    "TEMPERATURA_INCIO = [0.9, 0.99, 0.999, 0.9999]\n",
    "TEMPERATURA_FINAL = [0.6,0.5,0.4,0.3,0.2,0.1]\n",
    "ERORES_P = [0.1,0.01,0.001]\n",
    "ERORES_K = [10,100,200,500,1000]\n",
    "CUTOFFS = [0.4,0.5,0.6,0.7]\n",
    "ENTORNO = [0.25,0.5,1,2,4,5]\n",
    "COMBINATION = TEMPERATURA_INCIO, TEMPERATURA_FINAL, ERORES_P, ERORES_K,ERORES_P, ERORES_K, CUTOFFS, ENTORNO\n",
    "R =np.asanyarray(list(itertools.product(*COMBINATION)))\n",
    "RES = [SIM_AN(Intial_percentage=R[c][0]\n",
    "              , Final_percentage=R[c][1]\n",
    "              ,accpeted_percentage=R[c][2]\n",
    "             , error_percentage = R[c][4]\n",
    "             , k1=R[c][3]\n",
    "             , k2 = R[c][5]\n",
    "             ,cutoff = R[c][6]\n",
    "             , EnvirnomentRange = R[c][7]\n",
    "             , verbose=False)  for c in np.random.choice(np.arange(len(R)), size=10,replace=False)]  "
   ]
  },
  {
   "cell_type": "code",
   "execution_count": 213,
   "metadata": {
    "collapsed": false
   },
   "outputs": [
    {
     "data": {
      "text/plain": [
       "array([[9.3892775738497516, -0.10643736108345539],\n",
       "       [2.7932959823216628, -0.33650405237651415],\n",
       "       [2.7997255273635524, -0.33650811513119261],\n",
       "       [2.7880328014756506, -0.33649033731884737],\n",
       "       [21.945406262080379, -0.045519959433477065],\n",
       "       [2.8001826717985479, -0.33650787404897109],\n",
       "       [2.8084068498194603, -0.33649156174877809],\n",
       "       [2.7992316639872858, -0.33650829662907139],\n",
       "       [2.7965914210696745, -0.3365078747941076],\n",
       "       [2.7958136617565854, -0.33650730287113528]], dtype=object)"
      ]
     },
     "execution_count": 213,
     "metadata": {},
     "output_type": "execute_result"
    }
   ],
   "source": [
    "np.asanyarray(RES).T[0]"
   ]
  },
  {
   "cell_type": "code",
   "execution_count": 36,
   "metadata": {
    "collapsed": false
   },
   "outputs": [
    {
     "data": {
      "text/plain": [
       "<matplotlib.collections.LineCollection at 0x9699278>"
      ]
     },
     "execution_count": 36,
     "metadata": {},
     "output_type": "execute_result"
    },
    {
     "data": {
      "image/png": "[encoded data removed]",
      "text/plain": [
       "<matplotlib.figure.Figure at 0x96992b0>"
      ]
     },
     "metadata": {},
     "output_type": "display_data"
    }
   ],
   "source": [
    "plt.plot(fo(np.arange(2,15,0.1)))\n",
    "plt.vlines((Best_Solution[0]-2)*10,Best_Solution[1],5)"
   ]
  },
  {
   "cell_type": "code",
   "execution_count": 41,
   "metadata": {
    "collapsed": false
   },
   "outputs": [
    {
     "data": {
      "text/plain": [
       "(-0.31832001703308049, -0.31830988618379069, -0.31829975279643274)"
      ]
     },
     "execution_count": 41,
     "metadata": {},
     "output_type": "execute_result"
    }
   ],
   "source": [
    "fo(np.pi-10**-4),fo(np.pi),fo(np.pi+10**-4)"
   ]
  },
  {
   "cell_type": "code",
   "execution_count": 130,
   "metadata": {
    "collapsed": false
   },
   "outputs": [
    {
     "data": {
      "text/plain": [
       "0.33287108369807955"
      ]
     },
     "execution_count": 130,
     "metadata": {},
     "output_type": "execute_result"
    }
   ],
   "source": [
    "np.exp(-1.1)"
   ]
  },
  {
   "cell_type": "code",
   "execution_count": null,
   "metadata": {
    "collapsed": true
   },
   "outputs": [],
   "source": []
  }
 ],
 "metadata": {
  "anaconda-cloud": {},
  "kernelspec": {
   "display_name": "Python [Root]",
   "language": "python",
   "name": "Python [Root]"
  },
  "language_info": {
   "codemirror_mode": {
    "name": "ipython",
    "version": 2
   },
   "file_extension": ".py",
   "mimetype": "text/x-python",
   "name": "python",
   "nbconvert_exporter": "python",
   "pygments_lexer": "ipython2",
   "version": "2.7.12"
  }
 },
 "nbformat": 4,
 "nbformat_minor": 0
}
