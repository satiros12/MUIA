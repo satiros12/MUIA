{
 "cells": [
  {
   "cell_type": "code",
   "execution_count": 1,
   "metadata": {
    "collapsed": true
   },
   "outputs": [],
   "source": [
    "import numpy as np\n",
    "import matplotlib.pyplot as plt\n",
    "%matplotlib inline\n",
    "import SA \n",
    "import time "
   ]
  },
  {
   "cell_type": "markdown",
   "metadata": {},
   "source": [
    "# Global Search : Simulated Annealing\n",
    "\n",
    "    Simle metaheuristic algorithm that finde global minimum/maximum.\n",
    "    A metaheuristic similar to gradient descent.\n",
    "    \n",
    "    1º Select randomly a point for a function to minimize.\n",
    "    2º Select the range (Envirnoment) in which will decide next point to move.\n",
    "    3º Select randomly a point inside the range of the initial point.\n",
    "        If it is a better solution, use this one as the initial solution.\n",
    "        Elsewere with a probability p = exp(-(f(a)-f(b))/Ti) decide if use this new solution or keep the previous one.\n",
    "               f(a) : The objective function applied to the new point\n",
    "               f(b) : The objective function applied to the previous point.\n",
    "               Ti : Temperature in the current moment.\n",
    "    4º Update the temperature and back to the 3th point. (t <- t/(1+B*t); B=(t_start - t_final)/(K_steps*t_start*t_finalize)  )"
   ]
  },
  {
   "cell_type": "code",
   "execution_count": 17,
   "metadata": {
    "collapsed": false
   },
   "outputs": [],
   "source": [
    "def gradualTimmeUpdate(T_initial, T_final, K_steps, T_current):\n",
    "    Betta = (T_initial - T_final*1.0) / (K_steps*1.0* T_initial * T_final)\n",
    "    return T_current*1.0/(1.0 + Betta*T_current)\n",
    "\n",
    "#Simulated Annealing Continuous\n",
    "def SAC(MAX_ITERATIONS, InitialPoint, EnvirnomentRange, InitialTemperature, objectiveFunction, timeUpdateFunction, restrictions=[None,None]\n",
    "        ,probabilityFunction=None, randomFunction=np.random.rand, debug=False, verbose=False, plotose=False ):\n",
    "    if probabilityFunction == None : probabilityFunction=lambda a,b,T : np.exp(-(objectiveFunction(a) - objectiveFunction(b))/T)\n",
    "    CurrentTempreature = InitialTemperature\n",
    "    Current_solution = [InitialPoint , objectiveFunction(InitialPoint)]\n",
    "    Best_Solution = [InitialPoint , objectiveFunction(InitialPoint)]\n",
    "    if plotose :\n",
    "        Acumulative_values = [Best_Solution[-1]]\n",
    "    InitialTime = time.time()\n",
    "    for i in xrange(MAX_ITERATIONS):\n",
    "        StepTime = time.time()\n",
    "        while True:\n",
    "            RandomPoint = (randomFunction(len(Current_solution[0])) - 0.5) * 2\n",
    "            New_solution = Current_solution[0] + RandomPoint*EnvirnomentRange \n",
    "            #print New_solution\n",
    "            if restrictions[0] == None or restrictions[0] <= New_solution:\n",
    "                if restrictions[1] == None or restrictions[1] >= New_solution:\n",
    "                    break\n",
    "        New_value = objectiveFunction(New_solution)\n",
    "        if debug: print \"Sol \",i,\":\",New_solution,New_value, \" <-> \",Current_solution[0],Current_solution[1]\n",
    "        if New_value < Current_solution[1] : \n",
    "            Current_solution[0] = New_solution\n",
    "            Current_solution[1] = New_value\n",
    "        else:\n",
    "            ExpectedProbility = min([1,probabilityFunction(Current_solution[1],New_value,CurrentTempreature)])\n",
    "            ObtainedProbability = np.random.rand()\n",
    "            if debug : print \"Exp : \",ExpectedProbility,ObtainedProbability\n",
    "            if ObtainedProbability <= ExpectedProbility:\n",
    "                if Best_Solution[1] > Current_solution[1]:\n",
    "                    Best_Solution[0] = Current_solution[0]\n",
    "                    Best_Solution[1] = Current_solution[1]\n",
    "                Current_solution[0] = New_solution\n",
    "                Current_solution[1] = New_value\n",
    "        \n",
    "        #print \"Current Temp\",CurrentTempreature\n",
    "        CurrentTempreature = timeUpdateFunction(i,CurrentTempreature)\n",
    "        if plotose :\n",
    "            Acumulative_values.append(Best_Solution[-1])\n",
    "        if verbose == 1:  \n",
    "            print \"Step : \",i,\" Duration:\",(time.time() - StepTime) , \"Temperature:\",CurrentTempreature,\" Solution: \",Current_solution[1],\" Best solution: \",Best_Solution[1]\n",
    "    if plotose :\n",
    "            plt.plot(Acumulative_values)\n",
    "            plt.title(\"Best\" + str(Best_Solution[1]))\n",
    "            plt.show()\n",
    "    if verbose > 0:\n",
    "        TotalTime = (time.time()-InitialTime)\n",
    "        print \"Total time:\" ,TotalTime, \" Time per step\", TotalTime*1.0/MAX_ITERATIONS, \"Best solution : \",Best_Solution[1]\n",
    "    return Best_Solution\n",
    "\n",
    "def SAC_GTU(MAX_ITERATIONS, InitialPoint, EnvirnomentRange,  InitialTemperature, FinalTemperature,objectiveFunction, restrictions=[None,None], debug=False, verbose=False, plotose=False):\n",
    "    return SAC(MAX_ITERATIONS, InitialPoint, EnvirnomentRange, InitialTemperature, objectiveFunction=objectiveFunction,restrictions=restrictions, timeUpdateFunction=lambda i,T : gradualTimmeUpdate(InitialTemperature,FinalTemperature,MAX_ITERATIONS,T), debug=debug, verbose=verbose, plotose=plotose)"
   ]
  },
  {
   "cell_type": "code",
   "execution_count": 43,
   "metadata": {
    "collapsed": false
   },
   "outputs": [],
   "source": []
  },
  {
   "cell_type": "code",
   "execution_count": 12,
   "metadata": {
    "collapsed": false,
    "scrolled": true
   },
   "outputs": [],
   "source": [
    "#SAC(100,np.asanyarray([10.0]),1.0,15.0,fo,lambda i,T : gradualTimmeUpdate(15.0,1.0,100,T))\n",
    "def test1():\n",
    "    def fo(x): return np.cos(x)/x\n",
    "    np.random.seed(1)\n",
    "    R = SAC_GTU(1000,np.asanyarray([10.0]),5.0,100.0,1.0,fo, restrictions=[0,30], plotose=False,verbose=False)\n",
    "    print R\n",
    "    print \"Test result : \",(int(R[1][0]*10000) == -3364) and (int(R[0][0]*10000) == 28166)\n",
    "    \n",
    "    "
   ]
  },
  {
   "cell_type": "code",
   "execution_count": 19,
   "metadata": {
    "collapsed": false,
    "scrolled": true
   },
   "outputs": [
    {
     "name": "stdout",
     "output_type": "stream",
     "text": [
      "Step :  0  Duration: 0.0 Temperature: 50.2512562814  Solution:  [-0.05675213]  Best solution:  [-0.08390715]\n",
      "Step :  1  Duration: 0.0 Temperature: 33.5570469799  Solution:  [ 0.16079354]  Best solution:  [-0.08390715]\n",
      "Step :  2  Duration: 0.0 Temperature: 25.1889168766  Solution:  [-0.00303147]  Best solution:  [-0.08390715]\n",
      "Step :  3  Duration: 0.0 Temperature: 20.1612903226  Solution:  [-0.09953604]  Best solution:  [-0.08390715]\n",
      "Step :  4  Duration: 0.0 Temperature: 16.8067226891  Solution:  [ 0.05232591]  Best solution:  [-0.09953604]\n",
      "Step :  5  Duration: 0.0 Temperature: 14.409221902  Solution:  [-0.04902061]  Best solution:  [-0.09953604]\n",
      "Step :  6  Duration: 0.0 Temperature: 12.6103404792  Solution:  [ 0.03669638]  Best solution:  [-0.09953604]\n",
      "Step :  7  Duration: 0.0 Temperature: 11.2107623318  Solution:  [-0.03451065]  Best solution:  [-0.09953604]\n",
      "Step :  8  Duration: 0.0 Temperature: 10.0908173562  Solution:  [-0.03451065]  Best solution:  [-0.09953604]\n",
      "Step :  9  Duration: 0.0 Temperature: 9.17431192661  Solution:  [-0.03451065]  Best solution:  [-0.09953604]\n",
      "Step :  10  Duration: 0.0 Temperature: 8.41042893188  Solution:  [-0.04935514]  Best solution:  [-0.09953604]\n",
      "Step :  11  Duration: 0.0 Temperature: 7.76397515528  Solution:  [ 0.03190967]  Best solution:  [-0.09953604]\n",
      "Step :  12  Duration: 0.0 Temperature: 7.20980533526  Solution:  [-0.02660821]  Best solution:  [-0.09953604]\n",
      "Step :  13  Duration: 0.0 Temperature: 6.72947510094  Solution:  [ 0.00071235]  Best solution:  [-0.09953604]\n",
      "Step :  14  Duration: 0.0 Temperature: 6.30914826498  Solution:  [-0.03119438]  Best solution:  [-0.09953604]\n",
      "Step :  15  Duration: 0.0 Temperature: 5.93824228029  Solution:  [-0.03022761]  Best solution:  [-0.09953604]\n",
      "Step :  16  Duration: 0.000999927520752 Temperature: 5.60852495794  Solution:  [ 0.02795489]  Best solution:  [-0.09953604]\n",
      "Step :  17  Duration: 0.0 Temperature: 5.31349628055  Solution:  [-0.00921875]  Best solution:  [-0.09953604]\n",
      "Step :  18  Duration: 0.0 Temperature: 5.04795557799  Solution:  [-0.04445036]  Best solution:  [-0.09953604]\n",
      "Step :  19  Duration: 0.000999927520752 Temperature: 4.80769230769  Solution:  [ 0.05274317]  Best solution:  [-0.09953604]\n",
      "Step :  20  Duration: 0.0 Temperature: 4.58926112896  Solution:  [-0.01538835]  Best solution:  [-0.09953604]\n",
      "Step :  21  Duration: 0.0 Temperature: 4.38981562774  Solution:  [ 0.05518839]  Best solution:  [-0.09953604]\n",
      "Step :  22  Duration: 0.000999927520752 Temperature: 4.20698359276  Solution:  [ 0.06044456]  Best solution:  [-0.09953604]\n",
      "Step :  23  Duration: 0.0 Temperature: 4.03877221325  Solution:  [ 0.06044456]  Best solution:  [-0.09953604]\n",
      "Step :  24  Duration: 0.0 Temperature: 3.88349514563  Solution:  [-0.06252757]  Best solution:  [-0.09953604]\n",
      "Step :  25  Duration: 0.0 Temperature: 3.7397157816  Solution:  [-0.06252757]  Best solution:  [-0.09953604]\n",
      "Step :  26  Duration: 0.0 Temperature: 3.60620266859  Solution:  [ 0.03909686]  Best solution:  [-0.09953604]\n",
      "Step :  27  Duration: 0.0 Temperature: 3.48189415042  Solution:  [-0.06374315]  Best solution:  [-0.09953604]\n",
      "Step :  28  Duration: 0.000999927520752 Temperature: 3.36587007742  Solution:  [ 0.03803999]  Best solution:  [-0.09953604]\n",
      "Step :  29  Duration: 0.0 Temperature: 3.25732899023  Solution:  [-0.00644946]  Best solution:  [-0.09953604]\n",
      "Step :  30  Duration: 0.0 Temperature: 3.15556958031  Solution:  [ 0.04508571]  Best solution:  [-0.09953604]\n",
      "Step :  31  Duration: 0.0 Temperature: 3.0599755202  Solution:  [-0.02496667]  Best solution:  [-0.09953604]\n",
      "Step :  32  Duration: 0.0 Temperature: 2.97000297  Solution:  [ 0.0109897]  Best solution:  [-0.09953604]\n",
      "Step :  33  Duration: 0.0 Temperature: 2.88517022504  Solution:  [-0.00049467]  Best solution:  [-0.09953604]\n",
      "Step :  34  Duration: 0.0 Temperature: 2.80504908836  Solution:  [ 0.07948242]  Best solution:  [-0.09953604]\n",
      "Step :  35  Duration: 0.0 Temperature: 2.72925764192  Solution:  [ 0.05306186]  Best solution:  [-0.09953604]\n",
      "Step :  36  Duration: 0.0 Temperature: 2.65745415892  Solution:  [-0.01017358]  Best solution:  [-0.09953604]\n",
      "Step :  37  Duration: 0.0 Temperature: 2.58933195236  Solution:  [ 0.04342984]  Best solution:  [-0.09953604]\n",
      "Step :  38  Duration: 0.0 Temperature: 2.52461499621  Solution:  [-0.0559435]  Best solution:  [-0.09953604]\n",
      "Step :  39  Duration: 0.0 Temperature: 2.46305418719  Solution:  [-0.0559435]  Best solution:  [-0.09953604]\n",
      "Step :  40  Duration: 0.0 Temperature: 2.40442414042  Solution:  [ 0.0699624]  Best solution:  [-0.09953604]\n",
      "Step :  41  Duration: 0.0 Temperature: 2.34852043213  Solution:  [ 0.037101]  Best solution:  [-0.09953604]\n",
      "Step :  42  Duration: 0.0 Temperature: 2.29515721827  Solution:  [ 0.00044307]  Best solution:  [-0.09953604]\n",
      "Step :  43  Duration: 0.0 Temperature: 2.24416517056  Solution:  [-0.00692947]  Best solution:  [-0.09953604]\n",
      "Step :  44  Duration: 0.0 Temperature: 2.19538968167  Solution:  [-0.04673153]  Best solution:  [-0.09953604]\n",
      "Step :  45  Duration: 0.0 Temperature: 2.14868929953  Solution:  [ 0.04738314]  Best solution:  [-0.09953604]\n",
      "Step :  46  Duration: 0.0 Temperature: 2.10393435725  Solution:  [-0.05113346]  Best solution:  [-0.09953604]\n",
      "Step :  47  Duration: 0.0 Temperature: 2.06100577082  Solution:  [-0.05113346]  Best solution:  [-0.09953604]\n",
      "Step :  48  Duration: 0.0 Temperature: 2.01979398101  Solution:  [-0.05113346]  Best solution:  [-0.09953604]\n",
      "Step :  49  Duration: 0.0 Temperature: 1.9801980198  Solution:  [-0.05122999]  Best solution:  [-0.09953604]\n",
      "Step :  50  Duration: 0.0 Temperature: 1.9421246844  Solution:  [-0.05122999]  Best solution:  [-0.09953604]\n",
      "Step :  51  Duration: 0.0 Temperature: 1.90548780488  Solution:  [ 0.0274813]  Best solution:  [-0.09953604]\n",
      "Step :  52  Duration: 0.0 Temperature: 1.87020759304  Solution:  [ 0.01279767]  Best solution:  [-0.09953604]\n",
      "Step :  53  Duration: 0.0 Temperature: 1.83621006243  Solution:  [-0.04551916]  Best solution:  [-0.09953604]\n",
      "Step :  54  Duration: 0.0 Temperature: 1.80342651037  Solution:  [-0.04510945]  Best solution:  [-0.09953604]\n",
      "Step :  55  Duration: 0.0 Temperature: 1.77179305457  Solution:  [ 0.04162411]  Best solution:  [-0.09953604]\n",
      "Step :  56  Duration: 0.0 Temperature: 1.74125021766  Solution:  [-0.01880385]  Best solution:  [-0.09953604]\n",
      "Step :  57  Duration: 0.0 Temperature: 1.71174255392  Solution:  [-0.04370098]  Best solution:  [-0.09953604]\n",
      "Step :  58  Duration: 0.0 Temperature: 1.68321831342  Solution:  [ 0.03936965]  Best solution:  [-0.09953604]\n",
      "Step :  59  Duration: 0.0 Temperature: 1.65562913907  Solution:  [-0.03722285]  Best solution:  [-0.09953604]\n",
      "Step :  60  Duration: 0.0 Temperature: 1.62892979313  Solution:  [ 0.01168956]  Best solution:  [-0.09953604]\n",
      "Step :  61  Duration: 0.0 Temperature: 1.60307790959  Solution:  [ 0.01168956]  Best solution:  [-0.09953604]\n",
      "Step :  62  Duration: 0.0 Temperature: 1.57803376992  Solution:  [-0.02132574]  Best solution:  [-0.09953604]\n",
      "Step :  63  Duration: 0.0 Temperature: 1.55376009944  Solution:  [-0.04257294]  Best solution:  [-0.09953604]\n",
      "Step :  64  Duration: 0.0 Temperature: 1.53022188217  Solution:  [ 0.03708449]  Best solution:  [-0.09953604]\n",
      "Step :  65  Duration: 0.0 Temperature: 1.50738619234  Solution:  [-0.00130766]  Best solution:  [-0.09953604]\n",
      "Step :  66  Duration: 0.0 Temperature: 1.4852220407  Solution:  [-0.00608267]  Best solution:  [-0.09953604]\n",
      "Step :  67  Duration: 0.0 Temperature: 1.46370023419  Solution:  [-0.06184353]  Best solution:  [-0.09953604]\n",
      "Step :  68  Duration: 0.0 Temperature: 1.44279324773  Solution:  [ 0.07379532]  Best solution:  [-0.09953604]\n",
      "Step :  69  Duration: 0.0 Temperature: 1.42247510669  Solution:  [-0.05665683]  Best solution:  [-0.09953604]\n",
      "Step :  70  Duration: 0.0 Temperature: 1.40272127928  Solution:  [ 0.03481298]  Best solution:  [-0.09953604]\n",
      "Step :  71  Duration: 0.0 Temperature: 1.38350857775  Solution:  [-0.01225823]  Best solution:  [-0.09953604]\n",
      "Step :  72  Duration: 0.0 Temperature: 1.36481506756  Solution:  [ 0.01455859]  Best solution:  [-0.09953604]\n",
      "Step :  73  Duration: 0.0 Temperature: 1.34661998384  Solution:  [ 0.01455859]  Best solution:  [-0.09953604]\n",
      "Step :  74  Duration: 0.0 Temperature: 1.32890365449  Solution:  [-0.04586023]  Best solution:  [-0.09953604]\n",
      "Step :  75  Duration: 0.000999927520752 Temperature: 1.31164742917  Solution:  [ 0.03034147]  Best solution:  [-0.09953604]\n",
      "Step :  76  Duration: 0.0 Temperature: 1.29483361388  Solution:  [-0.10427492]  Best solution:  [-0.09953604]\n",
      "Step :  77  Duration: 0.0 Temperature: 1.27844541038  Solution:  [ 0.13681417]  Best solution:  [-0.10427492]\n",
      "Step :  78  Duration: 0.0 Temperature: 1.26246686024  Solution:  [-0.03488701]  Best solution:  [-0.10427492]\n",
      "Step :  79  Duration: 0.0 Temperature: 1.24688279302  Solution:  [-0.28574618]  Best solution:  [-0.10427492]\n",
      "Step :  80  Duration: 0.0 Temperature: 1.23167877817  Solution:  [ 1.07246788]  Best solution:  [-0.28574618]\n",
      "Step :  81  Duration: 0.0 Temperature: 1.21684108055  Solution:  [ 2.06839991]  Best solution:  [-0.28574618]\n",
      "Step :  82  Duration: 0.0 Temperature: 1.20235661897  Solution:  [-0.31601271]  Best solution:  [-0.28574618]\n",
      "Step :  83  Duration: 0.0 Temperature: 1.18821292776  Solution:  [-0.30824795]  Best solution:  [-0.31601271]\n",
      "Step :  84  Duration: 0.0 Temperature: 1.17439812096  Solution:  [ 2.19468975]  Best solution:  [-0.31601271]\n",
      "Step :  85  Duration: 0.0 Temperature: 1.16090085907  Solution:  [ 1.39339055]  Best solution:  [-0.31601271]\n",
      "Step :  86  Duration: 0.000999927520752 Temperature: 1.14771031792  Solution:  [ 3.35607746]  Best solution:  [-0.31601271]\n",
      "Step :  87  Duration: 0.0 Temperature: 1.13481615978  Solution:  [-0.29558258]  Best solution:  [-0.31601271]\n",
      "Step :  88  Duration: 0.0 Temperature: 1.12220850634  Solution:  [ 0.15160748]  Best solution:  [-0.31601271]\n",
      "Step :  89  Duration: 0.0 Temperature: 1.10987791343  Solution:  [ 0.15195786]  Best solution:  [-0.31601271]\n",
      "Step :  90  Duration: 0.0 Temperature: 1.09781534746  Solution:  [-0.33259216]  Best solution:  [-0.31601271]\n",
      "Step :  91  Duration: 0.0 Temperature: 1.08601216334  Solution:  [-0.33259216]  Best solution:  [-0.31601271]\n",
      "Step :  92  Duration: 0.0 Temperature: 1.07446008381  Solution:  [ 1.83305639]  Best solution:  [-0.33259216]\n",
      "Step :  93  Duration: 0.0 Temperature: 1.0631511801  Solution:  [-0.24931155]  Best solution:  [-0.33259216]\n",
      "Step :  94  Duration: 0.0 Temperature: 1.05207785376  Solution:  [ 3.46777456]  Best solution:  [-0.33259216]\n",
      "Step :  95  Duration: 0.000999927520752 Temperature: 1.04123281966  Solution:  [ 0.20109185]  Best solution:  [-0.33259216]\n",
      "Step :  96  Duration: 0.0 Temperature: 1.03060908997  Solution:  [-0.26780543]  Best solution:  [-0.33259216]\n",
      "Step :  97  Duration: 0.0 Temperature: 1.02019995919  Solution:  [ 0.09968949]  Best solution:  [-0.33259216]\n",
      "Step :  98  Duration: 0.0 Temperature: 1.00999899  Solution:  [-0.06026372]  Best solution:  [-0.33259216]\n",
      "Step :  99  Duration: 0.0 Temperature: 1.0  Solution:  [-0.08596065]  Best solution:  [-0.33259216]\n",
      "Total time: 0.0349998474121  Time per step 0.000349998474121 Best solution :  [-0.33259216]\n"
     ]
    },
    {
     "data": {
      "text/plain": [
       "[array([ 2.64847986]), array([-0.33259216])]"
      ]
     },
     "execution_count": 19,
     "metadata": {},
     "output_type": "execute_result"
    }
   ],
   "source": [
    "#R = test1()\n",
    "SAC_GTU(100,np.asanyarray([10.0]),5.0,100.0,1.0,fo, restrictions=[0,30], plotose=False,verbose=True)"
   ]
  },
  {
   "cell_type": "code",
   "execution_count": 3,
   "metadata": {
    "collapsed": false,
    "scrolled": true
   },
   "outputs": [
    {
     "data": {
      "image/png": "[encoded data removed]",
      "text/plain": [
       "<matplotlib.figure.Figure at 0x6ec2400>"
      ]
     },
     "metadata": {},
     "output_type": "display_data"
    },
    {
     "name": "stdout",
     "output_type": "stream",
     "text": [
      "Total time: 0.244999885559  Time per step 2.44999885559e-05 Best solution :  [-0.33650826]\n"
     ]
    },
    {
     "data": {
      "text/plain": [
       "[array([ 2.79742399]), array([-0.33650826])]"
      ]
     },
     "execution_count": 3,
     "metadata": {},
     "output_type": "execute_result"
    }
   ],
   "source": [
    "def fo(x): return np.cos(x)/x\n",
    "SA.SAC_GTU(10000,np.asanyarray([10.0]),5.0,100.0,1.0,fo, restrictions=[0,30], plotose=True,verbose=2)"
   ]
  },
  {
   "cell_type": "code",
   "execution_count": null,
   "metadata": {
    "collapsed": true
   },
   "outputs": [],
   "source": []
  }
 ],
 "metadata": {
  "anaconda-cloud": {},
  "kernelspec": {
   "display_name": "Python [Root]",
   "language": "python",
   "name": "Python [Root]"
  },
  "language_info": {
   "codemirror_mode": {
    "name": "ipython",
    "version": 2
   },
   "file_extension": ".py",
   "mimetype": "text/x-python",
   "name": "python",
   "nbconvert_exporter": "python",
   "pygments_lexer": "ipython2",
   "version": "2.7.12"
  }
 },
 "nbformat": 4,
 "nbformat_minor": 0
}
